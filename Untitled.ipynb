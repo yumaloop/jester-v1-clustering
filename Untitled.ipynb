{
 "cells": [
  {
   "cell_type": "code",
   "execution_count": 48,
   "metadata": {},
   "outputs": [],
   "source": [
    "import os\n",
    "import numpy as np\n",
    "from PIL import Image"
   ]
  },
  {
   "cell_type": "code",
   "execution_count": 52,
   "metadata": {},
   "outputs": [],
   "source": [
    "for frame_id in os.listdir(\"./data/latent\"):\n",
    "    videos = []\n",
    "    img_paths = os.listdir(\"./data/latent/\"+str(frame_id))\n",
    "    img_paths.sort()\n",
    "    for img_path in img_paths:\n",
    "        img_pil = Image.open(\"./data/latent/\"+str(frame_id)+\"/\"+img_path) # .resize()\n",
    "        img_arr = np.array(img_pil)\n",
    "        videos.append(img)\n",
    "    videos = np.array(videos)"
   ]
  },
  {
   "cell_type": "code",
   "execution_count": 53,
   "metadata": {},
   "outputs": [
    {
     "data": {
      "text/plain": [
       "(50,)"
      ]
     },
     "execution_count": 53,
     "metadata": {},
     "output_type": "execute_result"
    }
   ],
   "source": [
    "videos.shape"
   ]
  },
  {
   "cell_type": "code",
   "execution_count": 46,
   "metadata": {},
   "outputs": [
    {
     "data": {
      "text/plain": [
       "'00000.jpg'"
      ]
     },
     "execution_count": 46,
     "metadata": {},
     "output_type": "execute_result"
    }
   ],
   "source": []
  },
  {
   "cell_type": "code",
   "execution_count": null,
   "metadata": {},
   "outputs": [],
   "source": []
  },
  {
   "cell_type": "code",
   "execution_count": null,
   "metadata": {},
   "outputs": [],
   "source": []
  },
  {
   "cell_type": "code",
   "execution_count": null,
   "metadata": {},
   "outputs": [],
   "source": []
  },
  {
   "cell_type": "code",
   "execution_count": null,
   "metadata": {},
   "outputs": [],
   "source": []
  },
  {
   "cell_type": "code",
   "execution_count": 38,
   "metadata": {},
   "outputs": [
    {
     "data": {
      "text/plain": [
       "['00000.jpg',\n",
       " '00001.jpg',\n",
       " '00002.jpg',\n",
       " '00003.jpg',\n",
       " '00004.jpg',\n",
       " '00005.jpg',\n",
       " '00006.jpg',\n",
       " '00007.jpg',\n",
       " '00008.jpg',\n",
       " '00009.jpg',\n",
       " '00010.jpg',\n",
       " '00011.jpg',\n",
       " '00012.jpg',\n",
       " '00013.jpg',\n",
       " '00014.jpg',\n",
       " '00015.jpg',\n",
       " '00016.jpg',\n",
       " '00017.jpg',\n",
       " '00018.jpg',\n",
       " '00019.jpg',\n",
       " '00020.jpg',\n",
       " '00021.jpg',\n",
       " '00022.jpg',\n",
       " '00023.jpg',\n",
       " '00024.jpg',\n",
       " '00025.jpg',\n",
       " '00026.jpg',\n",
       " '00027.jpg',\n",
       " '00028.jpg',\n",
       " '00029.jpg',\n",
       " '00030.jpg',\n",
       " '00031.jpg',\n",
       " '00032.jpg',\n",
       " '00033.jpg',\n",
       " '00034.jpg',\n",
       " '00035.jpg',\n",
       " '00036.jpg',\n",
       " '00037.jpg',\n",
       " '00038.jpg',\n",
       " '00039.jpg',\n",
       " '00040.jpg',\n",
       " '00041.jpg',\n",
       " '00042.jpg',\n",
       " '00043.jpg',\n",
       " '00044.jpg',\n",
       " '00045.jpg',\n",
       " '00046.jpg',\n",
       " '00047.jpg',\n",
       " '00048.jpg',\n",
       " '00049.jpg']"
      ]
     },
     "execution_count": 38,
     "metadata": {},
     "output_type": "execute_result"
    }
   ],
   "source": [
    "images = os.listdir(\"./data/latent/11170/\")\n",
    "images.sort()\n"
   ]
  },
  {
   "cell_type": "code",
   "execution_count": null,
   "metadata": {},
   "outputs": [],
   "source": []
  },
  {
   "cell_type": "code",
   "execution_count": null,
   "metadata": {},
   "outputs": [],
   "source": []
  },
  {
   "cell_type": "code",
   "execution_count": null,
   "metadata": {},
   "outputs": [],
   "source": []
  },
  {
   "cell_type": "code",
   "execution_count": 15,
   "metadata": {},
   "outputs": [
    {
     "ename": "TypeError",
     "evalue": "'NoneType' object is not iterable",
     "output_type": "error",
     "traceback": [
      "\u001b[0;31m---------------------------------------------------------------------------\u001b[0m",
      "\u001b[0;31mTypeError\u001b[0m                                 Traceback (most recent call last)",
      "\u001b[0;32m<ipython-input-15-c80b9434f69b>\u001b[0m in \u001b[0;36m<module>\u001b[0;34m\u001b[0m\n\u001b[1;32m      1\u001b[0m \u001b[0mlist\u001b[0m \u001b[0;34m=\u001b[0m \u001b[0mos\u001b[0m\u001b[0;34m.\u001b[0m\u001b[0mlistdir\u001b[0m\u001b[0;34m(\u001b[0m\u001b[0;34m\"./data/latent/11170/\"\u001b[0m\u001b[0;34m)\u001b[0m\u001b[0;34m.\u001b[0m\u001b[0msort\u001b[0m\u001b[0;34m(\u001b[0m\u001b[0;34m)\u001b[0m\u001b[0;34m\u001b[0m\u001b[0;34m\u001b[0m\u001b[0m\n\u001b[0;32m----> 2\u001b[0;31m \u001b[0;32mfor\u001b[0m \u001b[0mframe_id\u001b[0m \u001b[0;32min\u001b[0m \u001b[0mlist\u001b[0m\u001b[0;34m:\u001b[0m\u001b[0;34m\u001b[0m\u001b[0;34m\u001b[0m\u001b[0m\n\u001b[0m\u001b[1;32m      3\u001b[0m     \u001b[0mprint\u001b[0m\u001b[0;34m(\u001b[0m\u001b[0mframe_id\u001b[0m\u001b[0;34m)\u001b[0m\u001b[0;34m\u001b[0m\u001b[0;34m\u001b[0m\u001b[0m\n",
      "\u001b[0;31mTypeError\u001b[0m: 'NoneType' object is not iterable"
     ]
    }
   ],
   "source": [
    "\n",
    "list = os.listdir(\"./data/latent/11170/\").sort()\n",
    "for frame_id in list:\n",
    "    print(frame_id)"
   ]
  },
  {
   "cell_type": "code",
   "execution_count": null,
   "metadata": {},
   "outputs": [],
   "source": []
  },
  {
   "cell_type": "code",
   "execution_count": null,
   "metadata": {},
   "outputs": [],
   "source": []
  }
 ],
 "metadata": {
  "kernelspec": {
   "display_name": "Python 3",
   "language": "python",
   "name": "python3"
  },
  "language_info": {
   "codemirror_mode": {
    "name": "ipython",
    "version": 3
   },
   "file_extension": ".py",
   "mimetype": "text/x-python",
   "name": "python",
   "nbconvert_exporter": "python",
   "pygments_lexer": "ipython3",
   "version": "3.6.9"
  },
  "toc": {
   "base_numbering": 1,
   "nav_menu": {},
   "number_sections": true,
   "sideBar": true,
   "skip_h1_title": false,
   "title_cell": "Table of Contents",
   "title_sidebar": "Contents",
   "toc_cell": false,
   "toc_position": {},
   "toc_section_display": true,
   "toc_window_display": false
  }
 },
 "nbformat": 4,
 "nbformat_minor": 2
}
