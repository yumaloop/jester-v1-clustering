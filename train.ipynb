{
 "cells": [
  {
   "cell_type": "code",
   "execution_count": 17,
   "metadata": {},
   "outputs": [],
   "source": [
    "import os\n",
    "import cv2\n",
    "import datetime\n",
    "import keras\n",
    "import numpy as np\n",
    "import pandas as pd\n",
    "\n",
    "from PIL import Image\n",
    "from sklearn.preprocessing import LabelEncoder\n",
    "\n",
    "import matplotlib.pyplot as plt\n",
    "%matplotlib inline"
   ]
  },
  {
   "cell_type": "code",
   "execution_count": null,
   "metadata": {},
   "outputs": [],
   "source": [
    "def ConvLSTMAutoEncoder(input_shape=(50, 100, 100, 3)):\n",
    "    model = keras.models.Sequential(name=\"ConvLSTMAutoEncoder\")\n",
    "    \n",
    "    # Encoder: ConvLSTM\n",
    "    model.add(keras.layers.ConvLSTM2D(filters=64, kernel_size=(3, 3), padding='same', return_sequences=True, input_shape=input_shape))\n",
    "    model.add(keras.layers.BatchNormalization())\n",
    "    model.add(keras.layers.ConvLSTM2D(filters=64, kernel_size=(3, 3), padding='same', return_sequences=True))\n",
    "    model.add(keras.layers.BatchNormalization())\n",
    "        \n",
    "    # Decoder: ConvLSTM\n",
    "    model.add(keras.layers.ConvLSTM2D(filters=64, kernel_size=(3, 3), padding='same', return_sequences=True))\n",
    "    model.add(keras.layers.BatchNormalization())\n",
    "    model.add(keras.layers.ConvLSTM2D(filters=3, kernel_size=(3, 3), padding='same', return_sequences=True))\n",
    "    model.add(keras.layers.BatchNormalization())\n",
    "    \n",
    "    return model"
   ]
  },
  {
   "cell_type": "code",
   "execution_count": null,
   "metadata": {},
   "outputs": [],
   "source": [
    "\n",
    "class BatchGenerator(keras.utils.Sequence):\n",
    "\n",
    "    def __init__(self, video_path=\"./data/video/20bn-jester-v1\",\n",
    "                 img_size=(100, 100), \n",
    "                 batch_size=8,\n",
    "                 use_padding=True):\n",
    "\n",
    "        self.num = len(os.listdir(video_path))\n",
    "        self.batch_size = batch_size\n",
    "        self.img_size = img_size\n",
    "        self.use_padding = use_padding\n",
    "        self.batches_per_epoch = int((self.num - 1) / batch_size) + 1\n",
    "        \n",
    "        # Load CSV as pd.DataFrame\n",
    "        self.df_train = pd.read_csv(\"./data/train.csv\", sep=\";\", header=None, names=[\"frame_id\", \"jester name\"])\n",
    "        # Label encoding\n",
    "        le = LabelEncoder()\n",
    "        le = le.fit(self.df_train['jester name'])\n",
    "        self.df_train['label'] = le.transform(self.df_train['jester name'])\n",
    "\n",
    "    def __getitem__(self, idx):\n",
    "        \"\"\"\n",
    "        idx: batch id\n",
    "        \"\"\"\n",
    "        batch_from = self.batch_size * idx\n",
    "        batch_to = batch_from + self.batch_size\n",
    "\n",
    "        if batch_to > self.num:\n",
    "            batch_to = self.num\n",
    "\n",
    "        x_batch = []\n",
    "        y_batch = []\n",
    "        max_frame_size = 50\n",
    "        \n",
    "        for index, row in self.df_train[batch_from:batch_to].iterrows(): \n",
    "            video=[]\n",
    "            for i, img_filename in enumerate(os.listdir(\"./data/video/20bn-jester-v1/\"+str(row[\"frame_id\"]))):\n",
    "                img_path = \"./data/video/20bn-jester-v1/\"+str(row[\"frame_id\"])+\"/\"+str(img_filename)\n",
    "                img_pil = Image.open(img_path).resize(self.img_size)\n",
    "                img_arr = np.array(img_pil)\n",
    "                video.append(img_arr)\n",
    "            video = np.array(video)\n",
    "            \n",
    "            \"\"\"\n",
    "            if max_frame_size < video.shape[0]:\n",
    "                max_frame_size = video.shape[0]\n",
    "            \"\"\"\n",
    "\n",
    "            x_batch.append(video)\n",
    "            y_batch.append(row[\"label\"])\n",
    "            \n",
    "        # Zero padding\n",
    "        if self.use_padding:\n",
    "            videos_pad=[]\n",
    "            for v in x_batch:\n",
    "                if v.shape[0] < max_frame_size:\n",
    "                    diff = max_frame_size - v.shape[0]\n",
    "                    v_pad = np.pad(v, [(0,diff),(0,0),(0,0),(0,0)], 'constant')\n",
    "                    videos_pad.append(v_pad)\n",
    "            x_batch = videos_pad\n",
    "\n",
    "        x_batch = np.asarray(x_batch)\n",
    "        x_batch = x_batch.astype('float32') / 255.0\n",
    "        y_batch = np.asarray(y_batch)\n",
    "\n",
    "        return x_batch, x_batch\n",
    "\n",
    "    def __len__(self):\n",
    "        \"\"\"\n",
    "        batch length: 1epochのバッチ数\n",
    "        \"\"\"\n",
    "        return self.batches_per_epoch\n",
    "\n",
    "    @property\n",
    "    def shape(self):\n",
    "        return (50, 100, 100, 3)\n",
    "\n",
    "    def on_epoch_end(self):\n",
    "        # 1epochが終わった時の処理\n",
    "        pass"
   ]
  },
  {
   "cell_type": "code",
   "execution_count": null,
   "metadata": {},
   "outputs": [],
   "source": [
    "gen = BatchGenerator(video_path=\"./data/video/20bn-jester-v1\",img_size=(100, 100), batch_size=8)\n",
    "x, x = gen.__getitem__(1)\n",
    "x.shape"
   ]
  },
  {
   "cell_type": "code",
   "execution_count": null,
   "metadata": {},
   "outputs": [],
   "source": [
    "plt.imshow(x[0][0])"
   ]
  },
  {
   "cell_type": "code",
   "execution_count": null,
   "metadata": {},
   "outputs": [],
   "source": [
    "model = ConvLSTMAutoEncoder(input_shape=(50, 50, 50, 3))\n",
    "model.compile(loss='mse', optimizer=keras.optimizers.Adam())\n",
    "model.summary()"
   ]
  },
  {
   "cell_type": "code",
   "execution_count": null,
   "metadata": {},
   "outputs": [],
   "source": [
    "train_batch_generator = BatchGenerator(video_path=\"./data/video/20bn-jester-v1\",\n",
    "                                       img_size=(50, 50), \n",
    "                                       batch_size=4)\n",
    "# test_batch_generator = BatchGenerator(video_path=\"./data/video/20bn-jester-v1\",img_size=(100, 100), batch_size=8)"
   ]
  },
  {
   "cell_type": "code",
   "execution_count": null,
   "metadata": {},
   "outputs": [],
   "source": [
    "date_string = datetime.datetime.now().strftime('%Y%m%d %H:%M:%S')\n",
    "os.mkdir('./log/'+date_string)\n",
    "print(date_string)\n",
    "\n",
    "callbacks=[]\n",
    "callbacks.append(keras.callbacks.ModelCheckpoint(filepath='./log/'+date_string+'/bestweights.hdf5', \n",
    "                                                    monitor='loss', \n",
    "                                                    save_best_only=True))\n",
    "\n",
    "history= model.fit_generator(train_batch_generator, \n",
    "                                  steps_per_epoch=train_batch_generator.__len__(), \n",
    "                                  epochs=100, \n",
    "                                  verbose=1, \n",
    "                                  callbacks=callbacks, \n",
    "                                  validation_data=None, \n",
    "                                  validation_steps=None, \n",
    "                                  class_weight=None, \n",
    "                                  max_queue_size=1, \n",
    "                                  workers=4,\n",
    "                                  use_multiprocessing=False, \n",
    "                                  shuffle=False, \n",
    "                                  initial_epoch=0)"
   ]
  },
  {
   "cell_type": "code",
   "execution_count": null,
   "metadata": {},
   "outputs": [],
   "source": []
  },
  {
   "cell_type": "code",
   "execution_count": null,
   "metadata": {},
   "outputs": [],
   "source": []
  },
  {
   "cell_type": "code",
   "execution_count": null,
   "metadata": {},
   "outputs": [],
   "source": []
  },
  {
   "cell_type": "code",
   "execution_count": null,
   "metadata": {},
   "outputs": [],
   "source": []
  }
 ],
 "metadata": {
  "kernelspec": {
   "display_name": "Python 3",
   "language": "python",
   "name": "python3"
  },
  "language_info": {
   "codemirror_mode": {
    "name": "ipython",
    "version": 3
   },
   "file_extension": ".py",
   "mimetype": "text/x-python",
   "name": "python",
   "nbconvert_exporter": "python",
   "pygments_lexer": "ipython3",
   "version": "3.6.9"
  },
  "toc": {
   "base_numbering": 1,
   "nav_menu": {},
   "number_sections": true,
   "sideBar": true,
   "skip_h1_title": false,
   "title_cell": "Table of Contents",
   "title_sidebar": "Contents",
   "toc_cell": false,
   "toc_position": {},
   "toc_section_display": true,
   "toc_window_display": false
  }
 },
 "nbformat": 4,
 "nbformat_minor": 2
}
