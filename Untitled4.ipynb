{
 "cells": [
  {
   "cell_type": "code",
   "execution_count": 12,
   "metadata": {},
   "outputs": [],
   "source": [
    "import keras\n",
    "import keras.backend as K"
   ]
  },
  {
   "cell_type": "code",
   "execution_count": 17,
   "metadata": {},
   "outputs": [
    {
     "name": "stderr",
     "output_type": "stream",
     "text": [
      "/usr/local/lib/python3.6/dist-packages/ipykernel_launcher.py:25: UserWarning: Update your `Model` call to the Keras 2 API: `Model(inputs=[<tf.Tenso..., outputs=[<tf.Tenso...)`\n",
      "/usr/local/lib/python3.6/dist-packages/ipykernel_launcher.py:28: UserWarning: Update your `Model` call to the Keras 2 API: `Model(inputs=[<tf.Tenso..., outputs=[<tf.Tenso...)`\n"
     ]
    }
   ],
   "source": [
    "# Input\n",
    "x_input = keras.layers.Input(shape=(64, 64, 3),dtype='float32', name='x_input')\n",
    "e_input = keras.layers.Input(shape=(1, 64, 64, 6),dtype='float32', name='e_input')\n",
    "r_input = keras.layers.Input(shape=(64, 64, 3),dtype='float32', name='r_input')\n",
    "\n",
    "# A unit\n",
    "A = keras.layers.Conv2D(3, (3, 3), padding='same', name='A')(x_input)\n",
    "\n",
    "# R unit \n",
    "e_input = keras.layers.Input(shape=(1, 64, 64, 6),dtype='float32', name='e_input')\n",
    "r_input = keras.layers.Input(shape=(64, 64, 3),dtype='float32', name='r_input')\n",
    "R, state_h, state_c = keras.layers.ConvLSTM2D(3, (3, 3), padding='same', return_sequences=False, return_state=True, name='R')(e_input)\n",
    "\n",
    "# A hat unit\n",
    "Ahat = keras.layers.Conv2D(3, (3, 3), padding='same', name='Ahat')(R)\n",
    "\n",
    "# E unit : pixcel layer (l=0) \n",
    "e0 = keras.layers.Subtract()([x_input, Ahat])\n",
    "e0 = keras.layers.Activation('relu', name='ReLU_0')(e0)\n",
    "e1 = keras.layers.Subtract()([Ahat, x_input])\n",
    "e1 = keras.layers.Activation('relu', name='ReLU_1')(e1)\n",
    "E =  keras.layers.Concatenate(axis=-1)([e0, e1])\n",
    "\n",
    "# Model \n",
    "predict_m = keras.models.Model(input=[e_input], output=[Ahat])\n",
    "predict_m.compile(optimizer='rmsprop', loss='mean_squared_error')\n",
    "\n",
    "model = keras.models.Model(input=[x_input,e_input], output=[E])\n",
    "model.compile(optimizer='rmsprop', loss='mean_squared_error')"
   ]
  },
  {
   "cell_type": "code",
   "execution_count": 18,
   "metadata": {},
   "outputs": [
    {
     "name": "stdout",
     "output_type": "stream",
     "text": [
      "__________________________________________________________________________________________________\n",
      "Layer (type)                    Output Shape         Param #     Connected to                     \n",
      "==================================================================================================\n",
      "e_input (InputLayer)            (None, 1, 64, 64, 6) 0                                            \n",
      "__________________________________________________________________________________________________\n",
      "R (ConvLSTM2D)                  [(None, 64, 64, 3),  984         e_input[0][0]                    \n",
      "__________________________________________________________________________________________________\n",
      "x_input (InputLayer)            (None, 64, 64, 3)    0                                            \n",
      "__________________________________________________________________________________________________\n",
      "Ahat (Conv2D)                   (None, 64, 64, 3)    84          R[0][0]                          \n",
      "__________________________________________________________________________________________________\n",
      "subtract_11 (Subtract)          (None, 64, 64, 3)    0           x_input[0][0]                    \n",
      "                                                                 Ahat[0][0]                       \n",
      "__________________________________________________________________________________________________\n",
      "subtract_12 (Subtract)          (None, 64, 64, 3)    0           Ahat[0][0]                       \n",
      "                                                                 x_input[0][0]                    \n",
      "__________________________________________________________________________________________________\n",
      "ReLU_0 (Activation)             (None, 64, 64, 3)    0           subtract_11[0][0]                \n",
      "__________________________________________________________________________________________________\n",
      "ReLU_1 (Activation)             (None, 64, 64, 3)    0           subtract_12[0][0]                \n",
      "__________________________________________________________________________________________________\n",
      "concatenate_3 (Concatenate)     (None, 64, 64, 6)    0           ReLU_0[0][0]                     \n",
      "                                                                 ReLU_1[0][0]                     \n",
      "==================================================================================================\n",
      "Total params: 1,068\n",
      "Trainable params: 1,068\n",
      "Non-trainable params: 0\n",
      "__________________________________________________________________________________________________\n"
     ]
    }
   ],
   "source": [
    "model.summary()"
   ]
  },
  {
   "cell_type": "code",
   "execution_count": null,
   "metadata": {},
   "outputs": [],
   "source": []
  },
  {
   "cell_type": "code",
   "execution_count": null,
   "metadata": {},
   "outputs": [],
   "source": []
  },
  {
   "cell_type": "code",
   "execution_count": null,
   "metadata": {},
   "outputs": [],
   "source": []
  }
 ],
 "metadata": {
  "kernelspec": {
   "display_name": "Python 3",
   "language": "python",
   "name": "python3"
  },
  "language_info": {
   "codemirror_mode": {
    "name": "ipython",
    "version": 3
   },
   "file_extension": ".py",
   "mimetype": "text/x-python",
   "name": "python",
   "nbconvert_exporter": "python",
   "pygments_lexer": "ipython3",
   "version": "3.6.9"
  },
  "toc": {
   "base_numbering": 1,
   "nav_menu": {},
   "number_sections": true,
   "sideBar": true,
   "skip_h1_title": false,
   "title_cell": "Table of Contents",
   "title_sidebar": "Contents",
   "toc_cell": false,
   "toc_position": {},
   "toc_section_display": true,
   "toc_window_display": false
  }
 },
 "nbformat": 4,
 "nbformat_minor": 2
}
