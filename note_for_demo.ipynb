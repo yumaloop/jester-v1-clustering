{
 "cells": [
  {
   "cell_type": "code",
   "execution_count": 1,
   "metadata": {},
   "outputs": [
    {
     "name": "stderr",
     "output_type": "stream",
     "text": [
      "Using TensorFlow backend.\n"
     ]
    }
   ],
   "source": [
    "import os\n",
    "import cv2\n",
    "import numpy as np\n",
    "import keras\n",
    "import glob\n",
    "\n",
    "import matplotlib.pyplot as plt\n",
    "%matplotlib inline\n",
    "\n",
    "from convlstm_autoencoder import ConvLSTMAutoEncoder\n",
    "from datagen import BatchGenerator\n",
    "\n",
    "from sklearn.preprocessing import MinMaxScaler\n",
    "from pprint import pprint\n",
    "from PIL import Image"
   ]
  },
  {
   "cell_type": "code",
   "execution_count": 3,
   "metadata": {},
   "outputs": [],
   "source": [
    "# model = ConvLSTMAutoEncoder(input_shape=(50, 48, 48, 3))"
   ]
  },
  {
   "cell_type": "code",
   "execution_count": 4,
   "metadata": {},
   "outputs": [
    {
     "name": "stdout",
     "output_type": "stream",
     "text": [
      "WARNING:tensorflow:From /usr/local/lib/python3.6/dist-packages/tensorflow/python/ops/resource_variable_ops.py:435: colocate_with (from tensorflow.python.framework.ops) is deprecated and will be removed in a future version.\n",
      "Instructions for updating:\n",
      "Colocations handled automatically by placer.\n",
      "WARNING:tensorflow:From /usr/local/lib/python3.6/dist-packages/tensorflow/python/ops/math_ops.py:3066: to_int32 (from tensorflow.python.ops.math_ops) is deprecated and will be removed in a future version.\n",
      "Instructions for updating:\n",
      "Use tf.cast instead.\n",
      "Model: \"ConvLSTMAutoEncoder\"\n",
      "_________________________________________________________________\n",
      "Layer (type)                 Output Shape              Param #   \n",
      "=================================================================\n",
      "conv_lst_m2d_1 (ConvLSTM2D)  (None, 50, 48, 48, 64)    154624    \n",
      "_________________________________________________________________\n",
      "batch_normalization_1 (Batch (None, 50, 48, 48, 64)    256       \n",
      "_________________________________________________________________\n",
      "max_pooling3d_1 (MaxPooling3 (None, 50, 24, 24, 64)    0         \n",
      "_________________________________________________________________\n",
      "conv_lst_m2d_2 (ConvLSTM2D)  (None, 50, 24, 24, 64)    295168    \n",
      "_________________________________________________________________\n",
      "batch_normalization_2 (Batch (None, 50, 24, 24, 64)    256       \n",
      "_________________________________________________________________\n",
      "max_pooling3d_2 (MaxPooling3 (None, 50, 12, 12, 64)    0         \n",
      "_________________________________________________________________\n",
      "conv3d_1 (Conv3D)            (None, 50, 12, 12, 3)     5187      \n",
      "_________________________________________________________________\n",
      "conv_lst_m2d_3 (ConvLSTM2D)  (None, 50, 12, 12, 64)    154624    \n",
      "_________________________________________________________________\n",
      "batch_normalization_3 (Batch (None, 50, 12, 12, 64)    256       \n",
      "_________________________________________________________________\n",
      "up_sampling3d_1 (UpSampling3 (None, 50, 24, 24, 64)    0         \n",
      "_________________________________________________________________\n",
      "conv_lst_m2d_4 (ConvLSTM2D)  (None, 50, 24, 24, 64)    295168    \n",
      "_________________________________________________________________\n",
      "batch_normalization_4 (Batch (None, 50, 24, 24, 64)    256       \n",
      "_________________________________________________________________\n",
      "up_sampling3d_2 (UpSampling3 (None, 50, 48, 48, 64)    0         \n",
      "_________________________________________________________________\n",
      "conv3d_2 (Conv3D)            (None, 50, 48, 48, 3)     5187      \n",
      "=================================================================\n",
      "Total params: 910,982\n",
      "Trainable params: 910,470\n",
      "Non-trainable params: 512\n",
      "_________________________________________________________________\n"
     ]
    }
   ],
   "source": [
    "# Load pre-trained model\n",
    "\n",
    "model = keras.models.load_model(\"./log/base/bestweights.hdf5\")\n",
    "model.summary()"
   ]
  },
  {
   "cell_type": "markdown",
   "metadata": {},
   "source": [
    "### Build Video Encoder: (50, 48, 48, 3) -> (50, 12, 12, 3)"
   ]
  },
  {
   "cell_type": "code",
   "execution_count": 5,
   "metadata": {},
   "outputs": [
    {
     "name": "stdout",
     "output_type": "stream",
     "text": [
      "Model: \"model_1\"\n",
      "_________________________________________________________________\n",
      "Layer (type)                 Output Shape              Param #   \n",
      "=================================================================\n",
      "conv_lst_m2d_1_input (InputL (None, 50, 48, 48, 3)     0         \n",
      "_________________________________________________________________\n",
      "conv_lst_m2d_1 (ConvLSTM2D)  (None, 50, 48, 48, 64)    154624    \n",
      "_________________________________________________________________\n",
      "batch_normalization_1 (Batch (None, 50, 48, 48, 64)    256       \n",
      "_________________________________________________________________\n",
      "max_pooling3d_1 (MaxPooling3 (None, 50, 24, 24, 64)    0         \n",
      "_________________________________________________________________\n",
      "conv_lst_m2d_2 (ConvLSTM2D)  (None, 50, 24, 24, 64)    295168    \n",
      "_________________________________________________________________\n",
      "batch_normalization_2 (Batch (None, 50, 24, 24, 64)    256       \n",
      "_________________________________________________________________\n",
      "max_pooling3d_2 (MaxPooling3 (None, 50, 12, 12, 64)    0         \n",
      "_________________________________________________________________\n",
      "conv3d_1 (Conv3D)            (None, 50, 12, 12, 3)     5187      \n",
      "=================================================================\n",
      "Total params: 455,491\n",
      "Trainable params: 455,235\n",
      "Non-trainable params: 256\n",
      "_________________________________________________________________\n"
     ]
    }
   ],
   "source": [
    "layer_name = 'conv3d_1'\n",
    "\n",
    "encoder = keras.models.Model(inputs=model.input, outputs=model.get_layer(layer_name).output)\n",
    "encoder.summary()"
   ]
  },
  {
   "cell_type": "code",
   "execution_count": 6,
   "metadata": {},
   "outputs": [
    {
     "name": "stdout",
     "output_type": "stream",
     "text": [
      "['00037.jpg',\n",
      " '00009.jpg',\n",
      " '00008.jpg',\n",
      " '00032.jpg',\n",
      " '00011.jpg',\n",
      " '00016.jpg',\n",
      " '00021.jpg',\n",
      " '00003.jpg',\n",
      " '00031.jpg',\n",
      " '00028.jpg',\n",
      " '00030.jpg',\n",
      " '00013.jpg',\n",
      " '00010.jpg',\n",
      " '00004.jpg',\n",
      " '00017.jpg',\n",
      " '00025.jpg',\n",
      " '00035.jpg',\n",
      " '00005.jpg',\n",
      " '00036.jpg',\n",
      " '00006.jpg',\n",
      " '00023.jpg',\n",
      " '00012.jpg',\n",
      " '00015.jpg',\n",
      " '00001.jpg',\n",
      " '00014.jpg',\n",
      " '00024.jpg',\n",
      " '00007.jpg',\n",
      " '00020.jpg',\n",
      " '00019.jpg',\n",
      " '00029.jpg',\n",
      " '00018.jpg',\n",
      " '00034.jpg',\n",
      " '00022.jpg',\n",
      " '00027.jpg',\n",
      " '00026.jpg',\n",
      " '00033.jpg',\n",
      " '00002.jpg']\n"
     ]
    }
   ],
   "source": [
    "pprint( os.listdir(\"data/video/20bn-jester-v1/1/\") )"
   ]
  },
  {
   "cell_type": "markdown",
   "metadata": {},
   "source": [
    "### Feed Sample video "
   ]
  },
  {
   "cell_type": "code",
   "execution_count": 7,
   "metadata": {},
   "outputs": [],
   "source": [
    "frame_id=1\n",
    "\n",
    "bgen = BatchGenerator(video_path=\"./data/video/20bn-jester-v1\",\n",
    "                                            img_size=(48, 48), \n",
    "                                            batch_size=1, \n",
    "                                            use_padding=True)\n",
    "                                            \n",
    "video, label = bgen.__getitem__(frame_id)"
   ]
  },
  {
   "cell_type": "code",
   "execution_count": 8,
   "metadata": {},
   "outputs": [
    {
     "data": {
      "text/plain": [
       "(1, 50, 48, 48, 3)"
      ]
     },
     "execution_count": 8,
     "metadata": {},
     "output_type": "execute_result"
    }
   ],
   "source": [
    "video.shape"
   ]
  },
  {
   "cell_type": "code",
   "execution_count": 9,
   "metadata": {},
   "outputs": [],
   "source": [
    "hidden_output = encoder.predict(video)"
   ]
  },
  {
   "cell_type": "code",
   "execution_count": 10,
   "metadata": {},
   "outputs": [
    {
     "data": {
      "text/plain": [
       "(1, 50, 12, 12, 3)"
      ]
     },
     "execution_count": 10,
     "metadata": {},
     "output_type": "execute_result"
    }
   ],
   "source": [
    "hidden_output.shape"
   ]
  },
  {
   "cell_type": "code",
   "execution_count": 11,
   "metadata": {},
   "outputs": [
    {
     "data": {
      "text/plain": [
       "(12, 12, 3)"
      ]
     },
     "execution_count": 11,
     "metadata": {},
     "output_type": "execute_result"
    }
   ],
   "source": [
    "hidden_output[0][0].shape"
   ]
  },
  {
   "cell_type": "code",
   "execution_count": 46,
   "metadata": {},
   "outputs": [
    {
     "data": {
      "image/png": "[encoded data removed]",
      "text/plain": [
       "<Figure size 432x288 with 1 Axes>"
      ]
     },
     "metadata": {
      "needs_background": "light"
     },
     "output_type": "display_data"
    }
   ],
   "source": [
    "for i in range(50):\n",
    "    img = hidden_output[0][i] * 255.\n",
    "    img = (img - img.min()) / (img.max() - img.min())\n",
    "    \n",
    "    # plt.figure()\n",
    "    plt.imshow(img)\n",
    "    plt.savefig(\"id1_latent_img_\"+str(i)+\".jpg\")"
   ]
  },
  {
   "cell_type": "code",
   "execution_count": 47,
   "metadata": {},
   "outputs": [
    {
     "name": "stderr",
     "output_type": "stream",
     "text": [
      "/usr/local/lib/python3.6/dist-packages/ipykernel_launcher.py:3: RuntimeWarning: invalid value encountered in true_divide\n",
      "  This is separate from the ipykernel package so we can avoid doing imports until\n"
     ]
    },
    {
     "data": {
      "image/png": "[encoded data removed]",
      "text/plain": [
       "<Figure size 432x288 with 1 Axes>"
      ]
     },
     "metadata": {
      "needs_background": "light"
     },
     "output_type": "display_data"
    }
   ],
   "source": [
    "for i in range(50):\n",
    "    img = video[0][i] * 255.\n",
    "    img = (img - img.min()) / (img.max() - img.min())\n",
    "    # plt.figure()\n",
    "    plt.imshow(img)\n",
    "    plt.savefig(\"id1_ori_img_\"+str(i)+\".jpg\")"
   ]
  },
  {
   "cell_type": "code",
   "execution_count": 13,
   "metadata": {},
   "outputs": [
    {
     "data": {
      "text/plain": [
       "<matplotlib.image.AxesImage at 0x7ff54c8aa898>"
      ]
     },
     "execution_count": 13,
     "metadata": {},
     "output_type": "execute_result"
    },
    {
     "data": {
      "image/png": "[encoded data removed]",
      "text/plain": [
       "<Figure size 432x288 with 1 Axes>"
      ]
     },
     "metadata": {
      "needs_background": "light"
     },
     "output_type": "display_data"
    }
   ],
   "source": [
    "img = hidden_output[0][10] * 255.\n",
    "img = (img - img.min()) / (img.max() - img.min())\n",
    "plt.imshow(img)"
   ]
  },
  {
   "cell_type": "code",
   "execution_count": 15,
   "metadata": {},
   "outputs": [
    {
     "data": {
      "text/plain": [
       "<matplotlib.image.AxesImage at 0x7ff54c231c88>"
      ]
     },
     "execution_count": 15,
     "metadata": {},
     "output_type": "execute_result"
    },
    {
     "data": {
      "image/png": "[encoded data removed]",
      "text/plain": [
       "<Figure size 432x288 with 1 Axes>"
      ]
     },
     "metadata": {
      "needs_background": "light"
     },
     "output_type": "display_data"
    }
   ],
   "source": [
    "img_r = img.repeat(4, axis=0).repeat(4, axis=1)\n",
    "plt.imshow(img_r)"
   ]
  },
  {
   "cell_type": "code",
   "execution_count": null,
   "metadata": {},
   "outputs": [],
   "source": [
    "image.repeat(2, axis=0).repeat(2, axis=1)\n"
   ]
  },
  {
   "cell_type": "code",
   "execution_count": 19,
   "metadata": {},
   "outputs": [
    {
     "name": "stderr",
     "output_type": "stream",
     "text": [
      "/usr/local/lib/python3.6/dist-packages/ipykernel_launcher.py:3: RuntimeWarning: invalid value encountered in true_divide\n",
      "  This is separate from the ipykernel package so we can avoid doing imports until\n"
     ]
    },
    {
     "data": {
      "image/png": "[encoded data removed]",
      "text/plain": [
       "<Figure size 432x288 with 1 Axes>"
      ]
     },
     "metadata": {
      "needs_background": "light"
     },
     "output_type": "display_data"
    }
   ],
   "source": [
    "for i in range(50):\n",
    "    ori_img = video[0][i] * 255.\n",
    "    ori_img = (ori_img - ori_img.min()) / (ori_img.max() - ori_img.min())\n",
    "    \n",
    "    lat_img = hidden_output[0][i] * 255.\n",
    "    lat_img = (lat_img - lat_img.min()) / (lat_img.max() - lat_img.min())\n",
    "    lat_img = lat_img.repeat(4, axis=0).repeat(4, axis=1)\n",
    "    \n",
    "    concat_img = cv2.hconcat([ori_img, lat_img])\n",
    "\n",
    "    # plt.figure()\n",
    "    plt.imshow(concat_img)\n",
    "    plt.savefig(\"id1_concat_img_\"+str(i)+\".jpg\")"
   ]
  },
  {
   "cell_type": "code",
   "execution_count": 22,
   "metadata": {},
   "outputs": [],
   "source": [
    "def make_gif(img_path='./demo/concat/*.jpg', gif_name='concat.gif'):\n",
    "    files = sorted(glob.glob(img_path))\n",
    "    images = list(map(lambda file: Image.open(file), files))\n",
    "    images[0].save(gif_name, save_all=True, append_images=images[1:], duration=400, loop=0)"
   ]
  },
  {
   "cell_type": "code",
   "execution_count": 23,
   "metadata": {},
   "outputs": [],
   "source": [
    "make_gif(img_path='./demo/original/*.jpg', gif_name='original.gif')\n",
    "make_gif(img_path='./demo/latent/*.jpg', gif_name='latent.gif')\n",
    "make_gif(img_path='./demo/concat/*.jpg', gif_name='concat.gif')"
   ]
  },
  {
   "cell_type": "code",
   "execution_count": null,
   "metadata": {},
   "outputs": [],
   "source": []
  },
  {
   "cell_type": "code",
   "execution_count": null,
   "metadata": {},
   "outputs": [],
   "source": []
  },
  {
   "cell_type": "code",
   "execution_count": null,
   "metadata": {},
   "outputs": [],
   "source": []
  },
  {
   "cell_type": "code",
   "execution_count": null,
   "metadata": {},
   "outputs": [],
   "source": []
  },
  {
   "cell_type": "code",
   "execution_count": 17,
   "metadata": {},
   "outputs": [],
   "source": [
    "frame_id=100\n",
    "\n",
    "bgen = BatchGenerator(video_path=\"./data/latent1118/\",\n",
    "                                            img_size=(48, 48), \n",
    "                                            batch_size=1, \n",
    "                                            use_padding=True)\n",
    "                                            \n",
    "video, label = bgen.__getitem__(frame_id)"
   ]
  },
  {
   "cell_type": "code",
   "execution_count": 24,
   "metadata": {},
   "outputs": [
    {
     "data": {
      "text/plain": [
       "<matplotlib.image.AxesImage at 0x7f1945ed4b70>"
      ]
     },
     "execution_count": 24,
     "metadata": {},
     "output_type": "execute_result"
    },
    {
     "data": {
      "image/png": "[encoded data removed]",
      "text/plain": [
       "<Figure size 432x288 with 1 Axes>"
      ]
     },
     "metadata": {
      "needs_background": "light"
     },
     "output_type": "display_data"
    }
   ],
   "source": [
    "plt.imshow(video[0][0])"
   ]
  },
  {
   "cell_type": "code",
   "execution_count": 26,
   "metadata": {},
   "outputs": [
    {
     "name": "stdout",
     "output_type": "stream",
     "text": [
      "lat.jpg\r\n"
     ]
    }
   ],
   "source": []
  },
  {
   "cell_type": "code",
   "execution_count": null,
   "metadata": {},
   "outputs": [],
   "source": []
  }
 ],
 "metadata": {
  "kernelspec": {
   "display_name": "Python 3",
   "language": "python",
   "name": "python3"
  },
  "language_info": {
   "codemirror_mode": {
    "name": "ipython",
    "version": 3
   },
   "file_extension": ".py",
   "mimetype": "text/x-python",
   "name": "python",
   "nbconvert_exporter": "python",
   "pygments_lexer": "ipython3",
   "version": "3.6.9"
  },
  "toc": {
   "base_numbering": 1,
   "nav_menu": {},
   "number_sections": true,
   "sideBar": true,
   "skip_h1_title": false,
   "title_cell": "Table of Contents",
   "title_sidebar": "Contents",
   "toc_cell": false,
   "toc_position": {},
   "toc_section_display": true,
   "toc_window_display": false
  }
 },
 "nbformat": 4,
 "nbformat_minor": 2
}
