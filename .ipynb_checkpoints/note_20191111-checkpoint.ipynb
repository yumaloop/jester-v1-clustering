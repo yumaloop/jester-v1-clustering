{
 "cells": [
  {
   "cell_type": "code",
   "execution_count": 19,
   "metadata": {},
   "outputs": [],
   "source": [
    "import os\n",
    "import numpy as np\n",
    "import keras\n",
    "\n",
    "from convlstm_autoencoder import ConvLSTMAutoEncoder\n",
    "from datagen import BatchGenerator\n",
    "\n",
    "from sklearn.preprocessing import MinMaxScaler\n",
    "from pprint import pprint\n",
    "\n",
    "from PIL import Image\n",
    "import matplotlib.pyplot as plt\n",
    "%matplotlib inline"
   ]
  },
  {
   "cell_type": "code",
   "execution_count": 2,
   "metadata": {},
   "outputs": [],
   "source": [
    "# model = ConvLSTMAutoEncoder(input_shape=(50, 48, 48, 3))"
   ]
  },
  {
   "cell_type": "code",
   "execution_count": 3,
   "metadata": {},
   "outputs": [
    {
     "name": "stdout",
     "output_type": "stream",
     "text": [
      "WARNING:tensorflow:From /usr/local/lib/python3.6/dist-packages/tensorflow/python/ops/resource_variable_ops.py:435: colocate_with (from tensorflow.python.framework.ops) is deprecated and will be removed in a future version.\n",
      "Instructions for updating:\n",
      "Colocations handled automatically by placer.\n",
      "WARNING:tensorflow:From /usr/local/lib/python3.6/dist-packages/tensorflow/python/ops/math_ops.py:3066: to_int32 (from tensorflow.python.ops.math_ops) is deprecated and will be removed in a future version.\n",
      "Instructions for updating:\n",
      "Use tf.cast instead.\n",
      "Model: \"ConvLSTMAutoEncoder\"\n",
      "_________________________________________________________________\n",
      "Layer (type)                 Output Shape              Param #   \n",
      "=================================================================\n",
      "conv_lst_m2d_1 (ConvLSTM2D)  (None, 50, 48, 48, 64)    154624    \n",
      "_________________________________________________________________\n",
      "batch_normalization_1 (Batch (None, 50, 48, 48, 64)    256       \n",
      "_________________________________________________________________\n",
      "max_pooling3d_1 (MaxPooling3 (None, 50, 24, 24, 64)    0         \n",
      "_________________________________________________________________\n",
      "conv_lst_m2d_2 (ConvLSTM2D)  (None, 50, 24, 24, 64)    295168    \n",
      "_________________________________________________________________\n",
      "batch_normalization_2 (Batch (None, 50, 24, 24, 64)    256       \n",
      "_________________________________________________________________\n",
      "max_pooling3d_2 (MaxPooling3 (None, 50, 12, 12, 64)    0         \n",
      "_________________________________________________________________\n",
      "conv3d_1 (Conv3D)            (None, 50, 12, 12, 3)     5187      \n",
      "_________________________________________________________________\n",
      "conv_lst_m2d_3 (ConvLSTM2D)  (None, 50, 12, 12, 64)    154624    \n",
      "_________________________________________________________________\n",
      "batch_normalization_3 (Batch (None, 50, 12, 12, 64)    256       \n",
      "_________________________________________________________________\n",
      "up_sampling3d_1 (UpSampling3 (None, 50, 24, 24, 64)    0         \n",
      "_________________________________________________________________\n",
      "conv_lst_m2d_4 (ConvLSTM2D)  (None, 50, 24, 24, 64)    295168    \n",
      "_________________________________________________________________\n",
      "batch_normalization_4 (Batch (None, 50, 24, 24, 64)    256       \n",
      "_________________________________________________________________\n",
      "up_sampling3d_2 (UpSampling3 (None, 50, 48, 48, 64)    0         \n",
      "_________________________________________________________________\n",
      "conv3d_2 (Conv3D)            (None, 50, 48, 48, 3)     5187      \n",
      "=================================================================\n",
      "Total params: 910,982\n",
      "Trainable params: 910,470\n",
      "Non-trainable params: 512\n",
      "_________________________________________________________________\n"
     ]
    }
   ],
   "source": [
    "# Load pre-trained model\n",
    "\n",
    "model = keras.models.load_model(\"./log/20191111 15:46:51/bestweights.hdf5\")\n",
    "model.summary()"
   ]
  },
  {
   "cell_type": "markdown",
   "metadata": {},
   "source": [
    "### Build Video Encoder: (50, 48, 48, 3) -> (50, 12, 12, 3)"
   ]
  },
  {
   "cell_type": "code",
   "execution_count": 4,
   "metadata": {},
   "outputs": [
    {
     "name": "stdout",
     "output_type": "stream",
     "text": [
      "Model: \"model_1\"\n",
      "_________________________________________________________________\n",
      "Layer (type)                 Output Shape              Param #   \n",
      "=================================================================\n",
      "conv_lst_m2d_1_input (InputL (None, 50, 48, 48, 3)     0         \n",
      "_________________________________________________________________\n",
      "conv_lst_m2d_1 (ConvLSTM2D)  (None, 50, 48, 48, 64)    154624    \n",
      "_________________________________________________________________\n",
      "batch_normalization_1 (Batch (None, 50, 48, 48, 64)    256       \n",
      "_________________________________________________________________\n",
      "max_pooling3d_1 (MaxPooling3 (None, 50, 24, 24, 64)    0         \n",
      "_________________________________________________________________\n",
      "conv_lst_m2d_2 (ConvLSTM2D)  (None, 50, 24, 24, 64)    295168    \n",
      "_________________________________________________________________\n",
      "batch_normalization_2 (Batch (None, 50, 24, 24, 64)    256       \n",
      "_________________________________________________________________\n",
      "max_pooling3d_2 (MaxPooling3 (None, 50, 12, 12, 64)    0         \n",
      "_________________________________________________________________\n",
      "conv3d_1 (Conv3D)            (None, 50, 12, 12, 3)     5187      \n",
      "=================================================================\n",
      "Total params: 455,491\n",
      "Trainable params: 455,235\n",
      "Non-trainable params: 256\n",
      "_________________________________________________________________\n"
     ]
    }
   ],
   "source": [
    "layer_name = 'conv3d_1'\n",
    "\n",
    "encoder = keras.models.Model(inputs=model.input, outputs=model.get_layer(layer_name).output)\n",
    "encoder.summary()"
   ]
  },
  {
   "cell_type": "code",
   "execution_count": 5,
   "metadata": {},
   "outputs": [
    {
     "name": "stdout",
     "output_type": "stream",
     "text": [
      "['00037.jpg',\n",
      " '00009.jpg',\n",
      " '00008.jpg',\n",
      " '00032.jpg',\n",
      " '00011.jpg',\n",
      " '00016.jpg',\n",
      " '00021.jpg',\n",
      " '00003.jpg',\n",
      " '00031.jpg',\n",
      " '00028.jpg',\n",
      " '00030.jpg',\n",
      " '00013.jpg',\n",
      " '00010.jpg',\n",
      " '00004.jpg',\n",
      " '00017.jpg',\n",
      " '00025.jpg',\n",
      " '00035.jpg',\n",
      " '00005.jpg',\n",
      " '00036.jpg',\n",
      " '00006.jpg',\n",
      " '00023.jpg',\n",
      " '00012.jpg',\n",
      " '00015.jpg',\n",
      " '00001.jpg',\n",
      " '00014.jpg',\n",
      " '00024.jpg',\n",
      " '00007.jpg',\n",
      " '00020.jpg',\n",
      " '00019.jpg',\n",
      " '00029.jpg',\n",
      " '00018.jpg',\n",
      " '00034.jpg',\n",
      " '00022.jpg',\n",
      " '00027.jpg',\n",
      " '00026.jpg',\n",
      " '00033.jpg',\n",
      " '00002.jpg']\n"
     ]
    }
   ],
   "source": [
    "pprint( os.listdir(\"data/video/20bn-jester-v1/1/\") )"
   ]
  },
  {
   "cell_type": "markdown",
   "metadata": {},
   "source": [
    "### Feed Sample video "
   ]
  },
  {
   "cell_type": "code",
   "execution_count": 6,
   "metadata": {},
   "outputs": [],
   "source": [
    "frame_id=1\n",
    "\n",
    "bgen = BatchGenerator(video_path=\"./data/video/20bn-jester-v1\",\n",
    "                                            img_size=(48, 48), \n",
    "                                            batch_size=1, \n",
    "                                            use_padding=True)\n",
    "                                            \n",
    "video, label = bgen.__getitem__(frame_id)"
   ]
  },
  {
   "cell_type": "code",
   "execution_count": 7,
   "metadata": {},
   "outputs": [
    {
     "data": {
      "text/plain": [
       "(1, 50, 48, 48, 3)"
      ]
     },
     "execution_count": 7,
     "metadata": {},
     "output_type": "execute_result"
    }
   ],
   "source": [
    "video.shape"
   ]
  },
  {
   "cell_type": "code",
   "execution_count": 8,
   "metadata": {},
   "outputs": [],
   "source": [
    "hidden_output = encoder.predict(video)"
   ]
  },
  {
   "cell_type": "code",
   "execution_count": 9,
   "metadata": {},
   "outputs": [
    {
     "data": {
      "text/plain": [
       "(1, 50, 12, 12, 3)"
      ]
     },
     "execution_count": 9,
     "metadata": {},
     "output_type": "execute_result"
    }
   ],
   "source": [
    "hidden_output.shape"
   ]
  },
  {
   "cell_type": "code",
   "execution_count": 14,
   "metadata": {},
   "outputs": [
    {
     "data": {
      "text/plain": [
       "(12, 12, 3)"
      ]
     },
     "execution_count": 14,
     "metadata": {},
     "output_type": "execute_result"
    }
   ],
   "source": [
    "hidden_output[0][0].shape"
   ]
  },
  {
   "cell_type": "code",
   "execution_count": 16,
   "metadata": {},
   "outputs": [
    {
     "data": {
      "text/plain": [
       "array([[[ 1.3236852 ,  1.087159  ,  0.0888834 ],\n",
       "        [ 1.1329527 , -0.13773349,  0.4567188 ],\n",
       "        [ 2.292274  ,  1.3380265 , -0.01359072],\n",
       "        [ 1.4983599 ,  1.115687  ,  0.05141095],\n",
       "        [ 0.9430421 ,  1.4201295 , -0.02951827],\n",
       "        [ 0.83509046,  1.5014088 , -0.05604681],\n",
       "        [ 1.1495202 ,  0.96185946, -0.11685604],\n",
       "        [ 1.2798536 ,  1.0167739 , -0.1917683 ],\n",
       "        [ 1.3273888 ,  0.95950174, -0.24298841],\n",
       "        [ 1.3859107 ,  1.0771939 , -0.19399823],\n",
       "        [ 1.2362058 ,  1.0715796 , -0.14812618],\n",
       "        [ 1.3210356 ,  1.0888517 , -0.0373825 ]],\n",
       "\n",
       "       [[ 1.4084678 ,  0.8704457 , -0.29768315],\n",
       "        [ 1.6133409 ,  1.9804851 , -0.05534928],\n",
       "        [ 1.3106871 ,  1.0617303 ,  0.05803338],\n",
       "        [ 1.7142577 ,  0.96652526, -0.3303497 ],\n",
       "        [ 1.4399433 ,  0.8305035 , -0.28795388],\n",
       "        [ 3.5954337 ,  0.9976538 ,  1.4137553 ],\n",
       "        [ 2.3678973 ,  1.4015243 , -0.1322648 ],\n",
       "        [ 1.7762332 ,  1.3650607 , -0.08743116],\n",
       "        [ 1.520112  ,  1.0814689 , -0.13260214],\n",
       "        [ 1.5244005 ,  1.1344719 , -0.16637868],\n",
       "        [ 1.7278414 ,  1.1579032 , -0.14538722],\n",
       "        [ 1.5372918 ,  1.0612944 , -0.12717223]],\n",
       "\n",
       "       [[ 1.808718  ,  1.2034676 , -0.01611469],\n",
       "        [ 1.606797  ,  1.2371728 , -0.2772467 ],\n",
       "        [ 1.4463916 ,  1.4743717 ,  0.51483023],\n",
       "        [ 2.0027902 ,  1.1721816 , -1.2344174 ],\n",
       "        [ 2.4579277 ,  1.3709387 ,  1.0933744 ],\n",
       "        [ 0.2806119 ,  0.21748962, -0.49714345],\n",
       "        [ 1.7555263 ,  0.5460332 , -0.37217933],\n",
       "        [ 2.0803857 ,  1.1957829 , -0.17028311],\n",
       "        [ 1.6316178 ,  1.2745768 , -0.13880251],\n",
       "        [ 1.5017452 ,  1.1028608 ,  0.02678756],\n",
       "        [ 1.6366882 ,  1.0761127 , -0.10876633],\n",
       "        [ 1.7503071 ,  1.0515108 ,  0.10455397]],\n",
       "\n",
       "       [[ 1.582536  ,  1.0139291 , -0.06227225],\n",
       "        [ 1.6688986 ,  1.349024  , -0.16741975],\n",
       "        [ 1.5752416 ,  1.4525796 ,  0.06675434],\n",
       "        [ 0.8772689 ,  0.9934134 , -0.05180078],\n",
       "        [ 1.7023697 ,  1.0780177 ,  1.7357739 ],\n",
       "        [ 1.5955155 ,  0.09856624, -0.02688082],\n",
       "        [ 2.9443977 ,  0.20684561,  0.7695308 ],\n",
       "        [ 0.6753474 ,  1.6789808 , -1.1528071 ],\n",
       "        [ 1.0221469 ,  1.1736794 , -0.29106858],\n",
       "        [ 1.445463  ,  1.1933692 ,  0.02643337],\n",
       "        [ 1.5225768 ,  1.2365    , -0.02966886],\n",
       "        [ 1.5243685 ,  1.1978192 ,  0.1041254 ]],\n",
       "\n",
       "       [[ 1.4881365 ,  1.0927808 , -0.27007216],\n",
       "        [ 1.608563  ,  1.1554188 , -0.18697105],\n",
       "        [ 1.6541593 ,  1.4058454 , -0.1490545 ],\n",
       "        [ 1.0922072 ,  1.4917777 , -0.15830211],\n",
       "        [ 0.25547293,  1.0460135 ,  1.2128259 ],\n",
       "        [ 1.0851123 ,  0.7580572 ,  0.56383544],\n",
       "        [ 0.94621396,  0.8363208 ,  1.1867248 ],\n",
       "        [ 0.419302  ,  1.323283  , -0.9458687 ],\n",
       "        [ 0.8639019 ,  0.8833057 ,  0.3809969 ],\n",
       "        [ 1.3882685 ,  1.1673028 , -0.12396629],\n",
       "        [ 1.5437899 ,  1.3262825 , -0.02312775],\n",
       "        [ 1.5696712 ,  1.2707659 ,  0.09826031]],\n",
       "\n",
       "       [[ 1.4620838 ,  0.9467338 , -0.20733503],\n",
       "        [ 1.6622145 ,  1.1578276 , -0.13160858],\n",
       "        [ 1.5764651 ,  1.2756883 ,  0.01749698],\n",
       "        [ 1.395155  ,  1.2922578 , -0.05088199],\n",
       "        [-0.1877437 ,  1.2095579 ,  0.12454966],\n",
       "        [ 0.41974676, -1.1838667 ,  0.53421116],\n",
       "        [ 0.43806672,  0.02156226,  0.00881787],\n",
       "        [ 0.49106377,  1.092092  ,  0.12797439],\n",
       "        [ 1.4286611 ,  0.8940425 ,  0.3910921 ],\n",
       "        [ 1.3774161 ,  1.1710215 ,  0.03735672],\n",
       "        [ 1.4215751 ,  1.3890567 ,  0.03939844],\n",
       "        [ 1.4528859 ,  1.2775357 ,  0.0135846 ]],\n",
       "\n",
       "       [[ 1.3802695 ,  1.0273752 , -0.0789316 ],\n",
       "        [ 1.5894918 ,  1.0455701 ,  0.01039153],\n",
       "        [ 1.4151185 ,  1.1885829 ,  0.05029842],\n",
       "        [ 1.2693307 ,  1.153661  , -0.05869402],\n",
       "        [ 0.52140427,  0.7402889 , -0.2802237 ],\n",
       "        [ 2.4497023 ,  0.4218704 ,  0.09850658],\n",
       "        [ 1.5602093 ,  0.42503327, -0.3547349 ],\n",
       "        [ 0.4994917 ,  1.349865  ,  0.9686986 ],\n",
       "        [ 1.9157045 ,  1.0839697 , -0.390636  ],\n",
       "        [ 1.2358854 ,  1.3870332 ,  0.2752465 ],\n",
       "        [ 1.5333061 ,  1.4508127 ,  0.05520383],\n",
       "        [ 1.5026698 ,  1.2066035 , -0.05334008]],\n",
       "\n",
       "       [[ 1.3322356 ,  0.9781113 , -0.13633858],\n",
       "        [ 1.3584132 ,  0.9658189 ,  0.10801029],\n",
       "        [ 1.2060428 ,  0.82497734,  0.26621065],\n",
       "        [ 1.0529795 ,  0.932877  ,  0.44817555],\n",
       "        [ 1.9576378 ,  0.77560335,  0.2887143 ],\n",
       "        [ 0.8423869 ,  1.1148359 , -0.7030797 ],\n",
       "        [ 1.1952474 ,  0.63768286,  1.0918075 ],\n",
       "        [ 1.3679295 ,  1.3484728 ,  0.3373284 ],\n",
       "        [ 0.82960683,  1.1059453 , -0.01715862],\n",
       "        [ 1.3381007 ,  1.601366  , -0.05052574],\n",
       "        [ 1.6567843 ,  1.5663695 ,  0.04841432],\n",
       "        [ 1.4913235 ,  1.2331375 , -0.0354988 ]],\n",
       "\n",
       "       [[ 1.4311011 ,  1.1850528 , -0.18117504],\n",
       "        [ 1.598517  ,  1.1887857 , -0.03519686],\n",
       "        [ 1.4622245 ,  1.0010302 , -1.0071818 ],\n",
       "        [ 1.8897743 ,  1.2873883 , -0.35993454],\n",
       "        [ 1.0872686 ,  0.8581613 , -0.6892992 ],\n",
       "        [ 2.0860693 ,  0.10842111,  1.113052  ],\n",
       "        [ 2.5100572 ,  1.6029096 ,  0.95425045],\n",
       "        [ 0.99906236,  0.46850926,  0.20378879],\n",
       "        [ 1.7888274 ,  0.6526626 ,  0.7357988 ],\n",
       "        [ 1.5510666 ,  0.82229143,  0.05212041],\n",
       "        [ 1.6068416 ,  1.1608322 , -0.04035562],\n",
       "        [ 1.5690262 ,  1.1513145 ,  0.0355865 ]],\n",
       "\n",
       "       [[ 1.3322229 ,  0.6354139 , -0.26398936],\n",
       "        [ 1.231046  ,  0.10431265, -0.81711334],\n",
       "        [ 3.4663334 ,  0.56147015,  1.644717  ],\n",
       "        [ 0.8880832 ,  1.3254485 , -0.19651255],\n",
       "        [ 1.8695967 ,  0.90013087,  0.21214518],\n",
       "        [ 1.0250406 ,  0.7712629 ,  0.7027004 ],\n",
       "        [ 0.46369156,  0.75446445, -0.08214775],\n",
       "        [ 1.8493266 ,  0.6521762 ,  1.0673696 ],\n",
       "        [ 2.0516942 ,  1.0561501 ,  0.5735023 ],\n",
       "        [ 1.6625214 ,  1.2222519 , -0.51685464],\n",
       "        [ 1.4184489 ,  1.2340755 , -0.05379992],\n",
       "        [ 1.7355597 ,  1.0553576 ,  0.12814194]],\n",
       "\n",
       "       [[ 1.0627482 ,  0.48641396, -0.699929  ],\n",
       "        [ 2.920331  ,  0.6357482 ,  0.3058631 ],\n",
       "        [ 1.7528958 ,  1.9338244 ,  1.2173285 ],\n",
       "        [ 1.7445683 ,  0.42486066,  0.62856305],\n",
       "        [ 1.141663  ,  0.17947966,  0.7758853 ],\n",
       "        [ 1.3084526 ,  0.53574103, -0.83673203],\n",
       "        [ 0.32956403, -0.11263216, -0.10338314],\n",
       "        [ 1.291831  ,  0.5575816 ,  1.2081352 ],\n",
       "        [ 0.74548024,  1.0682119 ,  1.27188   ],\n",
       "        [ 1.4625452 ,  1.1562223 , -0.02113661],\n",
       "        [ 1.3462787 ,  1.1387689 , -0.12570827],\n",
       "        [ 1.4293163 ,  0.9715467 ,  0.08487642]],\n",
       "\n",
       "       [[ 0.72889584,  0.3253215 , -1.0416194 ],\n",
       "        [ 2.8824797 ,  1.7914178 ,  1.5888375 ],\n",
       "        [ 1.2958195 ,  1.6214277 ,  0.3345512 ],\n",
       "        [ 0.6200962 ,  0.4236046 ,  0.10982674],\n",
       "        [ 0.23956078,  0.712704  ,  0.281502  ],\n",
       "        [ 2.1321585 , -0.6835876 , -0.40634754],\n",
       "        [ 1.0302103 , -0.69025654, -1.3860147 ],\n",
       "        [ 1.065568  ,  0.8725787 ,  0.46907586],\n",
       "        [ 0.62570703,  0.86871207,  0.57769376],\n",
       "        [ 0.64589345,  0.9922721 ,  0.33855218],\n",
       "        [ 1.7941046 ,  1.0851418 , -0.00820437],\n",
       "        [ 1.9147606 ,  1.053694  , -0.4762172 ]]], dtype=float32)"
      ]
     },
     "execution_count": 16,
     "metadata": {},
     "output_type": "execute_result"
    }
   ],
   "source": [
    "hidden_output[0][0]"
   ]
  },
  {
   "cell_type": "code",
   "execution_count": 13,
   "metadata": {},
   "outputs": [
    {
     "name": "stderr",
     "output_type": "stream",
     "text": [
      "Clipping input data to the valid range for imshow with RGB data ([0..1] for floats or [0..255] for integers).\n",
      "Clipping input data to the valid range for imshow with RGB data ([0..1] for floats or [0..255] for integers).\n",
      "Clipping input data to the valid range for imshow with RGB data ([0..1] for floats or [0..255] for integers).\n",
      "Clipping input data to the valid range for imshow with RGB data ([0..1] for floats or [0..255] for integers).\n",
      "Clipping input data to the valid range for imshow with RGB data ([0..1] for floats or [0..255] for integers).\n",
      "Clipping input data to the valid range for imshow with RGB data ([0..1] for floats or [0..255] for integers).\n",
      "Clipping input data to the valid range for imshow with RGB data ([0..1] for floats or [0..255] for integers).\n",
      "Clipping input data to the valid range for imshow with RGB data ([0..1] for floats or [0..255] for integers).\n",
      "Clipping input data to the valid range for imshow with RGB data ([0..1] for floats or [0..255] for integers).\n",
      "Clipping input data to the valid range for imshow with RGB data ([0..1] for floats or [0..255] for integers).\n",
      "Clipping input data to the valid range for imshow with RGB data ([0..1] for floats or [0..255] for integers).\n",
      "Clipping input data to the valid range for imshow with RGB data ([0..1] for floats or [0..255] for integers).\n",
      "Clipping input data to the valid range for imshow with RGB data ([0..1] for floats or [0..255] for integers).\n",
      "Clipping input data to the valid range for imshow with RGB data ([0..1] for floats or [0..255] for integers).\n",
      "Clipping input data to the valid range for imshow with RGB data ([0..1] for floats or [0..255] for integers).\n",
      "Clipping input data to the valid range for imshow with RGB data ([0..1] for floats or [0..255] for integers).\n",
      "Clipping input data to the valid range for imshow with RGB data ([0..1] for floats or [0..255] for integers).\n",
      "Clipping input data to the valid range for imshow with RGB data ([0..1] for floats or [0..255] for integers).\n",
      "Clipping input data to the valid range for imshow with RGB data ([0..1] for floats or [0..255] for integers).\n",
      "Clipping input data to the valid range for imshow with RGB data ([0..1] for floats or [0..255] for integers).\n",
      "Clipping input data to the valid range for imshow with RGB data ([0..1] for floats or [0..255] for integers).\n",
      "Clipping input data to the valid range for imshow with RGB data ([0..1] for floats or [0..255] for integers).\n",
      "Clipping input data to the valid range for imshow with RGB data ([0..1] for floats or [0..255] for integers).\n",
      "Clipping input data to the valid range for imshow with RGB data ([0..1] for floats or [0..255] for integers).\n",
      "Clipping input data to the valid range for imshow with RGB data ([0..1] for floats or [0..255] for integers).\n",
      "Clipping input data to the valid range for imshow with RGB data ([0..1] for floats or [0..255] for integers).\n",
      "Clipping input data to the valid range for imshow with RGB data ([0..1] for floats or [0..255] for integers).\n",
      "Clipping input data to the valid range for imshow with RGB data ([0..1] for floats or [0..255] for integers).\n",
      "Clipping input data to the valid range for imshow with RGB data ([0..1] for floats or [0..255] for integers).\n",
      "Clipping input data to the valid range for imshow with RGB data ([0..1] for floats or [0..255] for integers).\n",
      "Clipping input data to the valid range for imshow with RGB data ([0..1] for floats or [0..255] for integers).\n",
      "Clipping input data to the valid range for imshow with RGB data ([0..1] for floats or [0..255] for integers).\n",
      "Clipping input data to the valid range for imshow with RGB data ([0..1] for floats or [0..255] for integers).\n",
      "Clipping input data to the valid range for imshow with RGB data ([0..1] for floats or [0..255] for integers).\n",
      "Clipping input data to the valid range for imshow with RGB data ([0..1] for floats or [0..255] for integers).\n",
      "Clipping input data to the valid range for imshow with RGB data ([0..1] for floats or [0..255] for integers).\n",
      "Clipping input data to the valid range for imshow with RGB data ([0..1] for floats or [0..255] for integers).\n",
      "Clipping input data to the valid range for imshow with RGB data ([0..1] for floats or [0..255] for integers).\n",
      "Clipping input data to the valid range for imshow with RGB data ([0..1] for floats or [0..255] for integers).\n",
      "Clipping input data to the valid range for imshow with RGB data ([0..1] for floats or [0..255] for integers).\n",
      "Clipping input data to the valid range for imshow with RGB data ([0..1] for floats or [0..255] for integers).\n",
      "Clipping input data to the valid range for imshow with RGB data ([0..1] for floats or [0..255] for integers).\n",
      "Clipping input data to the valid range for imshow with RGB data ([0..1] for floats or [0..255] for integers).\n",
      "Clipping input data to the valid range for imshow with RGB data ([0..1] for floats or [0..255] for integers).\n",
      "Clipping input data to the valid range for imshow with RGB data ([0..1] for floats or [0..255] for integers).\n",
      "Clipping input data to the valid range for imshow with RGB data ([0..1] for floats or [0..255] for integers).\n",
      "Clipping input data to the valid range for imshow with RGB data ([0..1] for floats or [0..255] for integers).\n",
      "Clipping input data to the valid range for imshow with RGB data ([0..1] for floats or [0..255] for integers).\n",
      "Clipping input data to the valid range for imshow with RGB data ([0..1] for floats or [0..255] for integers).\n",
      "Clipping input data to the valid range for imshow with RGB data ([0..1] for floats or [0..255] for integers).\n"
     ]
    },
    {
     "data": {
      "image/png": "[encoded data removed]",
      "text/plain": [
       "<Figure size 432x288 with 1 Axes>"
      ]
     },
     "metadata": {
      "needs_background": "light"
     },
     "output_type": "display_data"
    }
   ],
   "source": [
    "\n",
    "\n",
    "for i in range(50):\n",
    "    img = hidden_output[0][i] * 255\n",
    "    \n",
    "    plt.imshow(img)"
   ]
  },
  {
   "cell_type": "code",
   "execution_count": null,
   "metadata": {},
   "outputs": [],
   "source": []
  },
  {
   "cell_type": "code",
   "execution_count": null,
   "metadata": {},
   "outputs": [],
   "source": []
  },
  {
   "cell_type": "code",
   "execution_count": null,
   "metadata": {},
   "outputs": [],
   "source": []
  },
  {
   "cell_type": "code",
   "execution_count": null,
   "metadata": {},
   "outputs": [],
   "source": []
  },
  {
   "cell_type": "code",
   "execution_count": null,
   "metadata": {},
   "outputs": [],
   "source": []
  },
  {
   "cell_type": "code",
   "execution_count": null,
   "metadata": {},
   "outputs": [],
   "source": []
  },
  {
   "cell_type": "code",
   "execution_count": null,
   "metadata": {},
   "outputs": [],
   "source": []
  }
 ],
 "metadata": {
  "kernelspec": {
   "display_name": "Python 3",
   "language": "python",
   "name": "python3"
  },
  "toc": {
   "base_numbering": 1,
   "nav_menu": {},
   "number_sections": true,
   "sideBar": true,
   "skip_h1_title": false,
   "title_cell": "Table of Contents",
   "title_sidebar": "Contents",
   "toc_cell": false,
   "toc_position": {},
   "toc_section_display": true,
   "toc_window_display": false
  }
 },
 "nbformat": 4,
 "nbformat_minor": 2
}
