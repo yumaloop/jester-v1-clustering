{
 "cells": [
  {
   "cell_type": "code",
   "execution_count": 14,
   "metadata": {},
   "outputs": [],
   "source": [
    "import os\n",
    "import cv2\n",
    "import datetime\n",
    "import keras\n",
    "import tensorflow as tf\n",
    "import numpy as np\n",
    "import pandas as pd\n",
    "\n",
    "from PIL import Image\n",
    "from sklearn.preprocessing import LabelEncoder\n",
    "\n",
    "import matplotlib.pyplot as plt\n",
    "%matplotlib inline"
   ]
  },
  {
   "cell_type": "code",
   "execution_count": 52,
   "metadata": {},
   "outputs": [],
   "source": [
    "def ConvLSTMAutoEncoder(input_shape=(50, 100, 100, 3)):\n",
    "    model = tf.keras.models.Sequential(name=\"ConvLSTMAutoEncoder\")\n",
    "    \n",
    "    # Encoder: ConvLSTM\n",
    "    model.add(tf.keras.layers.ConvLSTM2D(filters=64, kernel_size=(3, 3), padding='same', return_sequences=True, input_shape=input_shape))\n",
    "    model.add(tf.keras.layers.BatchNormalization())\n",
    "    model.add(tf.keras.layers.ConvLSTM2D(filters=64, kernel_size=(3, 3), padding='same', return_sequences=True))\n",
    "    model.add(tf.keras.layers.BatchNormalization())\n",
    "        \n",
    "    # Decoder: ConvLSTM\n",
    "    model.add(tf.keras.layers.ConvLSTM2D(filters=64, kernel_size=(3, 3), padding='same', return_sequences=True))\n",
    "    model.add(tf.keras.layers.BatchNormalization())\n",
    "    model.add(tf.keras.layers.ConvLSTM2D(filters=3, kernel_size=(3, 3), padding='same', return_sequences=True))\n",
    "    model.add(tf.keras.layers.BatchNormalization())\n",
    "    \n",
    "    return model"
   ]
  },
  {
   "cell_type": "code",
   "execution_count": 76,
   "metadata": {},
   "outputs": [],
   "source": [
    "\n",
    "class BatchGenerator(keras.utils.Sequence):\n",
    "\n",
    "    def __init__(self, video_path=\"./data/video/20bn-jester-v1\",\n",
    "                 img_size=(100, 100), \n",
    "                 batch_size=8,\n",
    "                 use_padding=True):\n",
    "\n",
    "        self.num = len(os.listdir(video_path))\n",
    "        self.batch_size = batch_size\n",
    "        self.img_size = img_size\n",
    "        self.use_padding = use_padding\n",
    "        self.batches_per_epoch = int((self.num - 1) / batch_size) + 1\n",
    "        \n",
    "        # Load CSV as pd.DataFrame\n",
    "        self.df_train = pd.read_csv(\"./data/train.csv\", sep=\";\", header=None, names=[\"frame_id\", \"jester name\"])\n",
    "        # Label encoding\n",
    "        le = LabelEncoder()\n",
    "        le = le.fit(self.df_train['jester name'])\n",
    "        self.df_train['label'] = le.transform(self.df_train['jester name'])\n",
    "\n",
    "    def __getitem__(self, idx):\n",
    "\n",
    "        batch_from = self.batch_size * idx\n",
    "        batch_to = batch_from + self.batch_size\n",
    "\n",
    "        if batch_to > self.num:\n",
    "            batch_to = self.num\n",
    "\n",
    "        x_batch = []\n",
    "        y_batch = []\n",
    "        max_frame_size = 50\n",
    "        \n",
    "        for index, row in self.df_train[batch_from:batch_to].iterrows(): \n",
    "            video=[]\n",
    "            for i, img_filename in enumerate(os.listdir(\"./data/video/20bn-jester-v1/\"+str(row[\"frame_id\"]))):\n",
    "                img_path = \"./data/video/20bn-jester-v1/\"+str(row[\"frame_id\"])+\"/\"+str(img_filename)\n",
    "                img_pil = Image.open(img_path).resize(self.img_size)\n",
    "                img_arr = np.array(img_pil)\n",
    "                video.append(img_arr)\n",
    "            video = np.array(video)\n",
    "            \n",
    "            \"\"\"\n",
    "            if max_frame_size < video.shape[0]:\n",
    "                max_frame_size = video.shape[0]\n",
    "            \"\"\"\n",
    "\n",
    "            x_batch.append(video)\n",
    "            y_batch.append(row[\"label\"])\n",
    "            \n",
    "        # Zero padding\n",
    "        if self.use_padding:\n",
    "            videos_pad=[]\n",
    "            for v in x_batch:\n",
    "                if v.shape[0] < max_frame_size:\n",
    "                    diff = max_frame_size - v.shape[0]\n",
    "                    v_pad = np.pad(v, [(0,diff),(0,0),(0,0),(0,0)], 'constant')\n",
    "                    videos_pad.append(v_pad)\n",
    "            x_batch = videos_pad\n",
    "\n",
    "        x_batch = np.asarray(x_batch)\n",
    "        x_batch = x_batch.astype('float32') / 255.0\n",
    "        y_batch = np.asarray(y_batch)\n",
    "\n",
    "        return x_batch, x_batch\n",
    "\n",
    "    def __len__(self):\n",
    "        return self.batches_per_epoch\n",
    "\n",
    "    @property\n",
    "    def shape(self):\n",
    "        return (50, 100, 100, 3)\n",
    "\n",
    "    def on_epoch_end(self):\n",
    "        pass"
   ]
  },
  {
   "cell_type": "code",
   "execution_count": 77,
   "metadata": {},
   "outputs": [
    {
     "data": {
      "text/plain": [
       "(8, 50, 100, 100, 3)"
      ]
     },
     "execution_count": 77,
     "metadata": {},
     "output_type": "execute_result"
    }
   ],
   "source": [
    "gen = BatchGenerator(video_path=\"./data/video/20bn-jester-v1\",img_size=(100, 100), batch_size=8)\n",
    "x, x = gen.__getitem__(1)\n",
    "x.shape"
   ]
  },
  {
   "cell_type": "code",
   "execution_count": 78,
   "metadata": {},
   "outputs": [
    {
     "data": {
      "text/plain": [
       "<matplotlib.image.AxesImage at 0x7fb4326aa4a8>"
      ]
     },
     "execution_count": 78,
     "metadata": {},
     "output_type": "execute_result"
    },
    {
     "data": {
      "image/png": "[encoded data removed]",
      "text/plain": [
       "<Figure size 432x288 with 1 Axes>"
      ]
     },
     "metadata": {
      "needs_background": "light"
     },
     "output_type": "display_data"
    }
   ],
   "source": [
    "plt.imshow(x[0][0])"
   ]
  },
  {
   "cell_type": "code",
   "execution_count": 79,
   "metadata": {},
   "outputs": [],
   "source": [
    "train_batch_generator = BatchGenerator(video_path=\"./data/video/20bn-jester-v1\",img_size=(100, 100), batch_size=8)\n",
    "# test_batch_generator = BatchGenerator(video_path=\"./data/video/20bn-jester-v1\",img_size=(100, 100), batch_size=8)"
   ]
  },
  {
   "cell_type": "code",
   "execution_count": 80,
   "metadata": {},
   "outputs": [
    {
     "name": "stdout",
     "output_type": "stream",
     "text": [
      "_________________________________________________________________\n",
      "Layer (type)                 Output Shape              Param #   \n",
      "=================================================================\n",
      "conv_lst_m2d_32 (ConvLSTM2D) (None, 50, 100, 100, 64)  154624    \n",
      "_________________________________________________________________\n",
      "batch_normalization_v1_32 (B (None, 50, 100, 100, 64)  256       \n",
      "_________________________________________________________________\n",
      "conv_lst_m2d_33 (ConvLSTM2D) (None, 50, 100, 100, 64)  295168    \n",
      "_________________________________________________________________\n",
      "batch_normalization_v1_33 (B (None, 50, 100, 100, 64)  256       \n",
      "_________________________________________________________________\n",
      "conv_lst_m2d_34 (ConvLSTM2D) (None, 50, 100, 100, 64)  295168    \n",
      "_________________________________________________________________\n",
      "batch_normalization_v1_34 (B (None, 50, 100, 100, 64)  256       \n",
      "_________________________________________________________________\n",
      "conv_lst_m2d_35 (ConvLSTM2D) (None, 50, 100, 100, 3)   7248      \n",
      "_________________________________________________________________\n",
      "batch_normalization_v1_35 (B (None, 50, 100, 100, 3)   12        \n",
      "=================================================================\n",
      "Total params: 752,988\n",
      "Trainable params: 752,598\n",
      "Non-trainable params: 390\n",
      "_________________________________________________________________\n"
     ]
    }
   ],
   "source": [
    "model = ConvLSTMAutoEncoder()\n",
    "model.compile(loss='mse', optimizer=tf.keras.optimizers.Adam())\n",
    "model.summary()"
   ]
  },
  {
   "cell_type": "code",
   "execution_count": 81,
   "metadata": {},
   "outputs": [
    {
     "name": "stdout",
     "output_type": "stream",
     "text": [
      "20191107 19:29:55\n"
     ]
    },
    {
     "ename": "ValueError",
     "evalue": "You must specify `batch_size`",
     "output_type": "error",
     "traceback": [
      "\u001b[0;31m---------------------------------------------------------------------------\u001b[0m",
      "\u001b[0;31mValueError\u001b[0m                                Traceback (most recent call last)",
      "\u001b[0;32m<ipython-input-81-f48146b78123>\u001b[0m in \u001b[0;36m<module>\u001b[0;34m\u001b[0m\n\u001b[1;32m     20\u001b[0m                                   \u001b[0muse_multiprocessing\u001b[0m\u001b[0;34m=\u001b[0m\u001b[0;32mFalse\u001b[0m\u001b[0;34m,\u001b[0m\u001b[0;34m\u001b[0m\u001b[0;34m\u001b[0m\u001b[0m\n\u001b[1;32m     21\u001b[0m                                   \u001b[0mshuffle\u001b[0m\u001b[0;34m=\u001b[0m\u001b[0;32mTrue\u001b[0m\u001b[0;34m,\u001b[0m\u001b[0;34m\u001b[0m\u001b[0;34m\u001b[0m\u001b[0m\n\u001b[0;32m---> 22\u001b[0;31m                                   initial_epoch=1)\n\u001b[0m",
      "\u001b[0;32m/usr/local/lib/python3.6/dist-packages/tensorflow/python/keras/engine/training.py\u001b[0m in \u001b[0;36mfit_generator\u001b[0;34m(self, generator, steps_per_epoch, epochs, verbose, callbacks, validation_data, validation_steps, class_weight, max_queue_size, workers, use_multiprocessing, shuffle, initial_epoch)\u001b[0m\n\u001b[1;32m   1424\u001b[0m         \u001b[0muse_multiprocessing\u001b[0m\u001b[0;34m=\u001b[0m\u001b[0muse_multiprocessing\u001b[0m\u001b[0;34m,\u001b[0m\u001b[0;34m\u001b[0m\u001b[0;34m\u001b[0m\u001b[0m\n\u001b[1;32m   1425\u001b[0m         \u001b[0mshuffle\u001b[0m\u001b[0;34m=\u001b[0m\u001b[0mshuffle\u001b[0m\u001b[0;34m,\u001b[0m\u001b[0;34m\u001b[0m\u001b[0;34m\u001b[0m\u001b[0m\n\u001b[0;32m-> 1426\u001b[0;31m         initial_epoch=initial_epoch)\n\u001b[0m\u001b[1;32m   1427\u001b[0m \u001b[0;34m\u001b[0m\u001b[0m\n\u001b[1;32m   1428\u001b[0m   def evaluate_generator(self,\n",
      "\u001b[0;32m/usr/local/lib/python3.6/dist-packages/tensorflow/python/keras/engine/training_generator.py\u001b[0m in \u001b[0;36mmodel_iteration\u001b[0;34m(model, data, steps_per_epoch, epochs, verbose, callbacks, validation_data, validation_steps, class_weight, max_queue_size, workers, use_multiprocessing, shuffle, initial_epoch, mode, batch_size, **kwargs)\u001b[0m\n\u001b[1;32m    113\u001b[0m       \u001b[0mbatch_size\u001b[0m\u001b[0;34m=\u001b[0m\u001b[0mbatch_size\u001b[0m\u001b[0;34m,\u001b[0m\u001b[0;34m\u001b[0m\u001b[0;34m\u001b[0m\u001b[0m\n\u001b[1;32m    114\u001b[0m       \u001b[0mepochs\u001b[0m\u001b[0;34m=\u001b[0m\u001b[0mepochs\u001b[0m \u001b[0;34m-\u001b[0m \u001b[0minitial_epoch\u001b[0m\u001b[0;34m,\u001b[0m\u001b[0;34m\u001b[0m\u001b[0;34m\u001b[0m\u001b[0m\n\u001b[0;32m--> 115\u001b[0;31m       shuffle=shuffle)\n\u001b[0m\u001b[1;32m    116\u001b[0m \u001b[0;34m\u001b[0m\u001b[0m\n\u001b[1;32m    117\u001b[0m   \u001b[0mdo_validation\u001b[0m \u001b[0;34m=\u001b[0m \u001b[0mvalidation_data\u001b[0m \u001b[0;32mis\u001b[0m \u001b[0;32mnot\u001b[0m \u001b[0;32mNone\u001b[0m\u001b[0;34m\u001b[0m\u001b[0;34m\u001b[0m\u001b[0m\n",
      "\u001b[0;32m/usr/local/lib/python3.6/dist-packages/tensorflow/python/keras/engine/training_generator.py\u001b[0m in \u001b[0;36mconvert_to_generator_like\u001b[0;34m(data, batch_size, steps_per_epoch, epochs, shuffle)\u001b[0m\n\u001b[1;32m    377\u001b[0m   \u001b[0mnum_samples\u001b[0m \u001b[0;34m=\u001b[0m \u001b[0mint\u001b[0m\u001b[0;34m(\u001b[0m\u001b[0mnest\u001b[0m\u001b[0;34m.\u001b[0m\u001b[0mflatten\u001b[0m\u001b[0;34m(\u001b[0m\u001b[0mdata\u001b[0m\u001b[0;34m)\u001b[0m\u001b[0;34m[\u001b[0m\u001b[0;36m0\u001b[0m\u001b[0;34m]\u001b[0m\u001b[0;34m.\u001b[0m\u001b[0mshape\u001b[0m\u001b[0;34m[\u001b[0m\u001b[0;36m0\u001b[0m\u001b[0;34m]\u001b[0m\u001b[0;34m)\u001b[0m\u001b[0;34m\u001b[0m\u001b[0;34m\u001b[0m\u001b[0m\n\u001b[1;32m    378\u001b[0m   \u001b[0;32mif\u001b[0m \u001b[0mbatch_size\u001b[0m \u001b[0;32mis\u001b[0m \u001b[0;32mNone\u001b[0m\u001b[0;34m:\u001b[0m\u001b[0;34m\u001b[0m\u001b[0;34m\u001b[0m\u001b[0m\n\u001b[0;32m--> 379\u001b[0;31m     \u001b[0;32mraise\u001b[0m \u001b[0mValueError\u001b[0m\u001b[0;34m(\u001b[0m\u001b[0;34m'You must specify `batch_size`'\u001b[0m\u001b[0;34m)\u001b[0m\u001b[0;34m\u001b[0m\u001b[0;34m\u001b[0m\u001b[0m\n\u001b[0m\u001b[1;32m    380\u001b[0m   \u001b[0msteps_per_epoch\u001b[0m \u001b[0;34m=\u001b[0m \u001b[0mint\u001b[0m\u001b[0;34m(\u001b[0m\u001b[0mmath\u001b[0m\u001b[0;34m.\u001b[0m\u001b[0mceil\u001b[0m\u001b[0;34m(\u001b[0m\u001b[0mnum_samples\u001b[0m \u001b[0;34m/\u001b[0m \u001b[0mbatch_size\u001b[0m\u001b[0;34m)\u001b[0m\u001b[0;34m)\u001b[0m\u001b[0;34m\u001b[0m\u001b[0;34m\u001b[0m\u001b[0m\n\u001b[1;32m    381\u001b[0m \u001b[0;34m\u001b[0m\u001b[0m\n",
      "\u001b[0;31mValueError\u001b[0m: You must specify `batch_size`"
     ]
    }
   ],
   "source": [
    "date_string = datetime.datetime.now().strftime('%Y%m%d %H:%M:%S')\n",
    "os.mkdir('./log/'+date_string)\n",
    "print(date_string)\n",
    "\n",
    "callbacks=[]\n",
    "callbacks.append(tf.keras.callbacks.ModelCheckpoint(filepath='./log/'+date_string+'/bestweights.hdf5', \n",
    "                                                    monitor='loss', \n",
    "                                                    save_best_only=True))\n",
    "\n",
    "history= model.fit_generator(train_batch_generator, \n",
    "                                  steps_per_epoch=train_batch_generator.batches_per_epoch, \n",
    "                                  epochs=100, \n",
    "                                  verbose=1, \n",
    "                                  callbacks=callbacks, \n",
    "                                  validation_data=None, \n",
    "                                  validation_steps=None, \n",
    "                                  class_weight=None, \n",
    "                                  max_queue_size=1, \n",
    "                                  workers=1, \n",
    "                                  use_multiprocessing=False, \n",
    "                                  shuffle=True, \n",
    "                                  initial_epoch=1)"
   ]
  },
  {
   "cell_type": "code",
   "execution_count": null,
   "metadata": {},
   "outputs": [],
   "source": []
  },
  {
   "cell_type": "code",
   "execution_count": null,
   "metadata": {},
   "outputs": [],
   "source": []
  },
  {
   "cell_type": "code",
   "execution_count": null,
   "metadata": {},
   "outputs": [],
   "source": []
  },
  {
   "cell_type": "code",
   "execution_count": null,
   "metadata": {},
   "outputs": [],
   "source": []
  }
 ],
 "metadata": {
  "kernelspec": {
   "display_name": "Python 3",
   "language": "python",
   "name": "python3"
  },
  "language_info": {
   "codemirror_mode": {
    "name": "ipython",
    "version": 3
   },
   "file_extension": ".py",
   "mimetype": "text/x-python",
   "name": "python",
   "nbconvert_exporter": "python",
   "pygments_lexer": "ipython3",
   "version": "3.6.9"
  },
  "toc": {
   "base_numbering": 1,
   "nav_menu": {},
   "number_sections": true,
   "sideBar": true,
   "skip_h1_title": false,
   "title_cell": "Table of Contents",
   "title_sidebar": "Contents",
   "toc_cell": false,
   "toc_position": {},
   "toc_section_display": true,
   "toc_window_display": false
  }
 },
 "nbformat": 4,
 "nbformat_minor": 2
}
